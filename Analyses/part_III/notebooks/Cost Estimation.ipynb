{
 "cells": [
  {
   "cell_type": "code",
   "execution_count": 1,
   "metadata": {},
   "outputs": [
    {
     "name": "stdout",
     "output_type": "stream",
     "text": [
      "/Users/Lukas/Workspace/Allgemeine_Psychologie/basal_attributes\n"
     ]
    },
    {
     "name": "stderr",
     "output_type": "stream",
     "text": [
      "/Users/Lukas/Workspace/Allgemeine_Psychologie/basal_attributes/.venv/lib/python3.12/site-packages/IPython/core/magics/osm.py:417: UserWarning: This is now an optional IPython functionality, setting dhist requires you to install the `pickleshare` library.\n",
      "  self.shell.db['dhist'] = compress_dhist(dhist)[-100:]\n"
     ]
    }
   ],
   "source": [
    "%cd ./../"
   ]
  },
  {
   "cell_type": "code",
   "execution_count": 2,
   "metadata": {},
   "outputs": [],
   "source": [
    "import os\n",
    "os.chdir('/Users/Lukas/Workspace/Allgemeine_Psychologie/basal_attributes/')\n",
    "from importlib import reload\n",
    "import src.prompt_functions as pi\n",
    "import src.prompt_text as pt\n"
   ]
  },
  {
   "cell_type": "code",
   "execution_count": 3,
   "metadata": {},
   "outputs": [],
   "source": [
    "pt=reload(pt)\n",
    "pi=reload(pi)\n",
    "prompt_text = pt.task"
   ]
  },
  {
   "cell_type": "code",
   "execution_count": 4,
   "metadata": {},
   "outputs": [
    {
     "data": {
      "text/plain": [
       "'\\n\"Imagine a scenario where a construction company is developing a new housing complex using a revolutionary but untested material system. \\nThe material is known to be \\'wartungsintensiv\\' (maintenance-intensive), has an uncertain \\'Akzeptanz eines neuen Materialsystems\\' \\n(acceptance of a new material system), and is \\'leicht zerstörbar\\' (easily destructible). \\n\\nWrite a short story related to this new material system.\\nImagine you are \\'Dave Smith\\', a marketing manager at the construction company.\\n'"
      ]
     },
     "execution_count": 4,
     "metadata": {},
     "output_type": "execute_result"
    }
   ],
   "source": [
    "prompt_text"
   ]
  },
  {
   "cell_type": "code",
   "execution_count": 8,
   "metadata": {},
   "outputs": [
    {
     "name": "stdout",
     "output_type": "stream",
     "text": [
      "Tokens: 107\n",
      "\n",
      "Cost Estimation Report:\n",
      "\n",
      "GPT-4:\n",
      "- Input Tokens Cost: 0.00321 USD\n",
      "- Output Tokens Cost: 0.00624 USD\n",
      "- Total Cost for Single API-Call: 0.00945 USD\n",
      "- Total Cost for 20 API-Calls: 0.18900 USD\n",
      "\n",
      "GPT-3.5 Turbo:\n",
      "- Input Tokens Cost: 0.00005 USD\n",
      "- Output Tokens Cost: 0.00016 USD\n",
      "- Total Cost for Single API-Call: 0.00021 USD\n",
      "- Total Cost for 20 API-Calls: 0.00419 USD\n",
      "\n"
     ]
    }
   ],
   "source": [
    "custom_output = pi.generate_custom_pattern(\"This is a textual description of future material systems based on the identified clusters\\n\", 7)\n",
    "gpt4inputtokens, gpt4input, gpt4output, gpt4costs = pi.estimate_cost(prompt_text, custom_output, \"gpt-4\")\n",
    "gpt35inputtokens, gpt35input, gpt35output, gpt35costs = pi.estimate_cost(prompt_text, custom_output, \"gpt-3.5-turbo-0125\")\n",
    "print(\"Tokens:\", gpt4inputtokens)\n",
    "pi.print_cost_report(\n",
    "    gpt4input, \n",
    "    gpt4output, \n",
    "    gpt4costs, \n",
    "    gpt35input, \n",
    "    gpt35output, \n",
    "    gpt35costs,\n",
    "    20\n",
    ")"
   ]
  }
 ],
 "metadata": {
  "kernelspec": {
   "display_name": "spaceenvironment",
   "language": "python",
   "name": "python3"
  },
  "language_info": {
   "codemirror_mode": {
    "name": "ipython",
    "version": 3
   },
   "file_extension": ".py",
   "mimetype": "text/x-python",
   "name": "python",
   "nbconvert_exporter": "python",
   "pygments_lexer": "ipython3",
   "version": "3.12.0"
  }
 },
 "nbformat": 4,
 "nbformat_minor": 2
}
