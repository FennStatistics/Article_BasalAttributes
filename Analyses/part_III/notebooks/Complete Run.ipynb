{
 "cells": [
  {
   "cell_type": "code",
   "execution_count": 120,
   "metadata": {},
   "outputs": [
    {
     "name": "stdout",
     "output_type": "stream",
     "text": [
      "/Users/Lukas/Workspace/Allgemeine_Psychologie\n"
     ]
    },
    {
     "name": "stderr",
     "output_type": "stream",
     "text": [
      "/Users/Lukas/Workspace/Allgemeine_Psychologie/basal_attributes/.venv/lib/python3.12/site-packages/IPython/core/magics/osm.py:417: UserWarning: This is now an optional IPython functionality, setting dhist requires you to install the `pickleshare` library.\n",
      "  self.shell.db['dhist'] = compress_dhist(dhist)[-100:]\n"
     ]
    }
   ],
   "source": [
    "%cd ./../"
   ]
  },
  {
   "cell_type": "code",
   "execution_count": 55,
   "metadata": {},
   "outputs": [
    {
     "name": "stdout",
     "output_type": "stream",
     "text": [
      "your_openai_api_key_here\n"
     ]
    }
   ],
   "source": [
    "import os\n",
    "os.chdir('C:/DATEN/PHD/Article_BasalAttributes/Analyses/part_III')\n",
    "from importlib import reload\n",
    "import pandas as pd\n",
    "\n",
    "import src.prompt_functions as pi\n",
    "import src.prompt_text as pt\n",
    "import src.get_data as get_data\n",
    "import src.API_key as key"
   ]
  },
  {
   "cell_type": "code",
   "execution_count": 4,
   "metadata": {},
   "outputs": [],
   "source": [
    "df_partitions = pd.read_excel('./data/LeidenAlgorithm_solution.xlsx')\n",
    "df_partitions.rename(columns={'parition': 'partition'}, inplace=True)"
   ]
  },
  {
   "cell_type": "code",
   "execution_count": 5,
   "metadata": {},
   "outputs": [
    {
     "data": {
      "text/html": [
       "<div>\n",
       "<style scoped>\n",
       "    .dataframe tbody tr th:only-of-type {\n",
       "        vertical-align: middle;\n",
       "    }\n",
       "\n",
       "    .dataframe tbody tr th {\n",
       "        vertical-align: top;\n",
       "    }\n",
       "\n",
       "    .dataframe thead th {\n",
       "        text-align: right;\n",
       "    }\n",
       "</style>\n",
       "<table border=\"1\" class=\"dataframe\">\n",
       "  <thead>\n",
       "    <tr style=\"text-align: right;\">\n",
       "      <th></th>\n",
       "      <th>Unnamed: 0</th>\n",
       "      <th>partition</th>\n",
       "      <th>words</th>\n",
       "      <th>mean_valence</th>\n",
       "      <th>sd_valence</th>\n",
       "    </tr>\n",
       "  </thead>\n",
       "  <tbody>\n",
       "    <tr>\n",
       "      <th>0</th>\n",
       "      <td>1</td>\n",
       "      <td>1</td>\n",
       "      <td>aktive Formänderung durch Umwelteinwirkung</td>\n",
       "      <td>0.177515</td>\n",
       "      <td>1.140892</td>\n",
       "    </tr>\n",
       "    <tr>\n",
       "      <th>1</th>\n",
       "      <td>2</td>\n",
       "      <td>1</td>\n",
       "      <td>reaktionsfähig</td>\n",
       "      <td>0.668639</td>\n",
       "      <td>1.111209</td>\n",
       "    </tr>\n",
       "    <tr>\n",
       "      <th>2</th>\n",
       "      <td>3</td>\n",
       "      <td>1</td>\n",
       "      <td>passive Formänderung durch Umwelteinwirkung</td>\n",
       "      <td>-0.017751</td>\n",
       "      <td>1.131126</td>\n",
       "    </tr>\n",
       "    <tr>\n",
       "      <th>3</th>\n",
       "      <td>4</td>\n",
       "      <td>1</td>\n",
       "      <td>autonom</td>\n",
       "      <td>0.751479</td>\n",
       "      <td>0.949819</td>\n",
       "    </tr>\n",
       "    <tr>\n",
       "      <th>4</th>\n",
       "      <td>5</td>\n",
       "      <td>1</td>\n",
       "      <td>passive Verhaltensänderung durch Umwelteinwirkung</td>\n",
       "      <td>0.059172</td>\n",
       "      <td>1.056184</td>\n",
       "    </tr>\n",
       "    <tr>\n",
       "      <th>5</th>\n",
       "      <td>6</td>\n",
       "      <td>1</td>\n",
       "      <td>aktive Verhaltensänderung durch Umwelteinwirkung</td>\n",
       "      <td>0.272189</td>\n",
       "      <td>1.148185</td>\n",
       "    </tr>\n",
       "    <tr>\n",
       "      <th>6</th>\n",
       "      <td>7</td>\n",
       "      <td>1</td>\n",
       "      <td>intelligent</td>\n",
       "      <td>1.349112</td>\n",
       "      <td>1.103033</td>\n",
       "    </tr>\n",
       "    <tr>\n",
       "      <th>7</th>\n",
       "      <td>8</td>\n",
       "      <td>1</td>\n",
       "      <td>multifunktional</td>\n",
       "      <td>1.650888</td>\n",
       "      <td>1.024702</td>\n",
       "    </tr>\n",
       "    <tr>\n",
       "      <th>8</th>\n",
       "      <td>9</td>\n",
       "      <td>1</td>\n",
       "      <td>technologisch</td>\n",
       "      <td>0.763314</td>\n",
       "      <td>0.959081</td>\n",
       "    </tr>\n",
       "    <tr>\n",
       "      <th>9</th>\n",
       "      <td>10</td>\n",
       "      <td>2</td>\n",
       "      <td>zuverlässig</td>\n",
       "      <td>2.171598</td>\n",
       "      <td>1.017770</td>\n",
       "    </tr>\n",
       "    <tr>\n",
       "      <th>10</th>\n",
       "      <td>11</td>\n",
       "      <td>2</td>\n",
       "      <td>wartungsfrei</td>\n",
       "      <td>1.751479</td>\n",
       "      <td>1.158720</td>\n",
       "    </tr>\n",
       "    <tr>\n",
       "      <th>11</th>\n",
       "      <td>12</td>\n",
       "      <td>2</td>\n",
       "      <td>selbstheilend</td>\n",
       "      <td>1.650888</td>\n",
       "      <td>1.124411</td>\n",
       "    </tr>\n",
       "    <tr>\n",
       "      <th>12</th>\n",
       "      <td>13</td>\n",
       "      <td>2</td>\n",
       "      <td>widerstandsfähig</td>\n",
       "      <td>1.739645</td>\n",
       "      <td>1.053747</td>\n",
       "    </tr>\n",
       "    <tr>\n",
       "      <th>13</th>\n",
       "      <td>14</td>\n",
       "      <td>2</td>\n",
       "      <td>selbstreparierend</td>\n",
       "      <td>1.786982</td>\n",
       "      <td>1.064389</td>\n",
       "    </tr>\n",
       "    <tr>\n",
       "      <th>14</th>\n",
       "      <td>15</td>\n",
       "      <td>2</td>\n",
       "      <td>haltbar</td>\n",
       "      <td>1.928994</td>\n",
       "      <td>1.131655</td>\n",
       "    </tr>\n",
       "    <tr>\n",
       "      <th>15</th>\n",
       "      <td>16</td>\n",
       "      <td>2</td>\n",
       "      <td>robust</td>\n",
       "      <td>1.822485</td>\n",
       "      <td>0.965705</td>\n",
       "    </tr>\n",
       "    <tr>\n",
       "      <th>16</th>\n",
       "      <td>17</td>\n",
       "      <td>2</td>\n",
       "      <td>langlebig</td>\n",
       "      <td>2.218935</td>\n",
       "      <td>1.008592</td>\n",
       "    </tr>\n",
       "    <tr>\n",
       "      <th>17</th>\n",
       "      <td>18</td>\n",
       "      <td>3</td>\n",
       "      <td>Akzeptanz eines neuen Materialsystems</td>\n",
       "      <td>0.355030</td>\n",
       "      <td>0.854603</td>\n",
       "    </tr>\n",
       "    <tr>\n",
       "      <th>18</th>\n",
       "      <td>19</td>\n",
       "      <td>3</td>\n",
       "      <td>wartungsintensiv</td>\n",
       "      <td>-2.041420</td>\n",
       "      <td>1.008033</td>\n",
       "    </tr>\n",
       "    <tr>\n",
       "      <th>19</th>\n",
       "      <td>20</td>\n",
       "      <td>3</td>\n",
       "      <td>enthält Kunststoff</td>\n",
       "      <td>-1.041420</td>\n",
       "      <td>1.125225</td>\n",
       "    </tr>\n",
       "    <tr>\n",
       "      <th>20</th>\n",
       "      <td>21</td>\n",
       "      <td>3</td>\n",
       "      <td>leicht zerstörbar</td>\n",
       "      <td>-1.798817</td>\n",
       "      <td>1.403990</td>\n",
       "    </tr>\n",
       "    <tr>\n",
       "      <th>21</th>\n",
       "      <td>22</td>\n",
       "      <td>3</td>\n",
       "      <td>umweltschädlich</td>\n",
       "      <td>-2.603550</td>\n",
       "      <td>0.927227</td>\n",
       "    </tr>\n",
       "    <tr>\n",
       "      <th>22</th>\n",
       "      <td>23</td>\n",
       "      <td>4</td>\n",
       "      <td>Energie speichernd</td>\n",
       "      <td>1.497041</td>\n",
       "      <td>0.994774</td>\n",
       "    </tr>\n",
       "    <tr>\n",
       "      <th>23</th>\n",
       "      <td>24</td>\n",
       "      <td>4</td>\n",
       "      <td>energieeffizient</td>\n",
       "      <td>2.076923</td>\n",
       "      <td>1.011835</td>\n",
       "    </tr>\n",
       "    <tr>\n",
       "      <th>24</th>\n",
       "      <td>25</td>\n",
       "      <td>4</td>\n",
       "      <td>energieautonom</td>\n",
       "      <td>1.426036</td>\n",
       "      <td>1.067165</td>\n",
       "    </tr>\n",
       "    <tr>\n",
       "      <th>25</th>\n",
       "      <td>26</td>\n",
       "      <td>4</td>\n",
       "      <td>Energie generierend</td>\n",
       "      <td>1.715976</td>\n",
       "      <td>1.181118</td>\n",
       "    </tr>\n",
       "    <tr>\n",
       "      <th>26</th>\n",
       "      <td>27</td>\n",
       "      <td>5</td>\n",
       "      <td>ökologisch</td>\n",
       "      <td>1.899408</td>\n",
       "      <td>1.044515</td>\n",
       "    </tr>\n",
       "    <tr>\n",
       "      <th>27</th>\n",
       "      <td>28</td>\n",
       "      <td>5</td>\n",
       "      <td>elektronikfrei</td>\n",
       "      <td>0.455621</td>\n",
       "      <td>1.074369</td>\n",
       "    </tr>\n",
       "    <tr>\n",
       "      <th>28</th>\n",
       "      <td>29</td>\n",
       "      <td>5</td>\n",
       "      <td>nachhaltig</td>\n",
       "      <td>2.384615</td>\n",
       "      <td>0.981981</td>\n",
       "    </tr>\n",
       "    <tr>\n",
       "      <th>29</th>\n",
       "      <td>30</td>\n",
       "      <td>5</td>\n",
       "      <td>umweltfreundlich</td>\n",
       "      <td>2.491124</td>\n",
       "      <td>0.932983</td>\n",
       "    </tr>\n",
       "    <tr>\n",
       "      <th>30</th>\n",
       "      <td>31</td>\n",
       "      <td>6</td>\n",
       "      <td>Insekten ähnlich</td>\n",
       "      <td>-0.118343</td>\n",
       "      <td>1.143390</td>\n",
       "    </tr>\n",
       "    <tr>\n",
       "      <th>31</th>\n",
       "      <td>32</td>\n",
       "      <td>6</td>\n",
       "      <td>bioinspiriert</td>\n",
       "      <td>0.781065</td>\n",
       "      <td>1.031929</td>\n",
       "    </tr>\n",
       "    <tr>\n",
       "      <th>32</th>\n",
       "      <td>33</td>\n",
       "      <td>6</td>\n",
       "      <td>lebensähnlich</td>\n",
       "      <td>0.325444</td>\n",
       "      <td>0.922924</td>\n",
       "    </tr>\n",
       "  </tbody>\n",
       "</table>\n",
       "</div>"
      ],
      "text/plain": [
       "    Unnamed: 0  partition                                              words  \\\n",
       "0            1          1         aktive Formänderung durch Umwelteinwirkung   \n",
       "1            2          1                                     reaktionsfähig   \n",
       "2            3          1        passive Formänderung durch Umwelteinwirkung   \n",
       "3            4          1                                            autonom   \n",
       "4            5          1  passive Verhaltensänderung durch Umwelteinwirkung   \n",
       "5            6          1   aktive Verhaltensänderung durch Umwelteinwirkung   \n",
       "6            7          1                                        intelligent   \n",
       "7            8          1                                    multifunktional   \n",
       "8            9          1                                      technologisch   \n",
       "9           10          2                                        zuverlässig   \n",
       "10          11          2                                       wartungsfrei   \n",
       "11          12          2                                      selbstheilend   \n",
       "12          13          2                                   widerstandsfähig   \n",
       "13          14          2                                  selbstreparierend   \n",
       "14          15          2                                            haltbar   \n",
       "15          16          2                                             robust   \n",
       "16          17          2                                          langlebig   \n",
       "17          18          3              Akzeptanz eines neuen Materialsystems   \n",
       "18          19          3                                   wartungsintensiv   \n",
       "19          20          3                                 enthält Kunststoff   \n",
       "20          21          3                                  leicht zerstörbar   \n",
       "21          22          3                                    umweltschädlich   \n",
       "22          23          4                                 Energie speichernd   \n",
       "23          24          4                                   energieeffizient   \n",
       "24          25          4                                     energieautonom   \n",
       "25          26          4                                Energie generierend   \n",
       "26          27          5                                         ökologisch   \n",
       "27          28          5                                     elektronikfrei   \n",
       "28          29          5                                         nachhaltig   \n",
       "29          30          5                                   umweltfreundlich   \n",
       "30          31          6                                   Insekten ähnlich   \n",
       "31          32          6                                      bioinspiriert   \n",
       "32          33          6                                      lebensähnlich   \n",
       "\n",
       "    mean_valence  sd_valence  \n",
       "0       0.177515    1.140892  \n",
       "1       0.668639    1.111209  \n",
       "2      -0.017751    1.131126  \n",
       "3       0.751479    0.949819  \n",
       "4       0.059172    1.056184  \n",
       "5       0.272189    1.148185  \n",
       "6       1.349112    1.103033  \n",
       "7       1.650888    1.024702  \n",
       "8       0.763314    0.959081  \n",
       "9       2.171598    1.017770  \n",
       "10      1.751479    1.158720  \n",
       "11      1.650888    1.124411  \n",
       "12      1.739645    1.053747  \n",
       "13      1.786982    1.064389  \n",
       "14      1.928994    1.131655  \n",
       "15      1.822485    0.965705  \n",
       "16      2.218935    1.008592  \n",
       "17      0.355030    0.854603  \n",
       "18     -2.041420    1.008033  \n",
       "19     -1.041420    1.125225  \n",
       "20     -1.798817    1.403990  \n",
       "21     -2.603550    0.927227  \n",
       "22      1.497041    0.994774  \n",
       "23      2.076923    1.011835  \n",
       "24      1.426036    1.067165  \n",
       "25      1.715976    1.181118  \n",
       "26      1.899408    1.044515  \n",
       "27      0.455621    1.074369  \n",
       "28      2.384615    0.981981  \n",
       "29      2.491124    0.932983  \n",
       "30     -0.118343    1.143390  \n",
       "31      0.781065    1.031929  \n",
       "32      0.325444    0.922924  "
      ]
     },
     "execution_count": 5,
     "metadata": {},
     "output_type": "execute_result"
    }
   ],
   "source": [
    "df_partitions"
   ]
  },
  {
   "cell_type": "code",
   "execution_count": 6,
   "metadata": {},
   "outputs": [
    {
     "data": {
      "text/plain": [
       "'\\n<Aufgabe:\\n\"Schreibe eine kurze Erzählung, welche eine neue Materialtechnologie in einer realen Anwendung beschreibt. \\nDie Erzählung sollte sich um ein technisches oder wissenschaftliches Projekt drehen, bei dem \\nWerbematerialien für ein neues Bau- oder Infrastrukturprojekt entwickelt werden, bei dem dieses \\ninnovative Material zum Einsatz kommt. Das Projekt sollte in einem Umfeld angesiedelt sein, in dem die \\neinzigartigen Eigenschaften des Materials bestehende Probleme lösen könnten, \\nes aber möglicherweise noch zugrundeliegende Herausforderungen gibt, \\ndie in den Werbematerialien nicht vollständig angesprochen werden. \\nVerwende dabei alle Wörter aus der folgenden Liste.>\\n\\n<Liste:\\n({items_list})>\\n\\n<Aufgabenstellungen:\\n1) Der Text muss weniger als 200 Wörter beinhalten.\\n2) Schreibe neutral aus der Dritten Person.\\n3) Die Anwendung muss plausibel sein.\\n4) Gehe Schritt für Schritt vor. \\n5) Verwende alle Wörter, die in der Liste angegeben sind.>\\n\\n    Answer: '"
      ]
     },
     "execution_count": 6,
     "metadata": {},
     "output_type": "execute_result"
    }
   ],
   "source": [
    "pt=reload(pt)\n",
    "prompt_text = pt.template_partitions\n",
    "prompt_text"
   ]
  },
  {
   "cell_type": "code",
   "execution_count": 7,
   "metadata": {},
   "outputs": [
    {
     "name": "stdout",
     "output_type": "stream",
     "text": [
      "\n",
      "<Aufgabe:\n",
      "\"Schreibe eine kurze Erzählung, welche eine neue Materialtechnologie in einer realen Anwendung beschreibt. \n",
      "Die Erzählung sollte sich um ein technisches oder wissenschaftliches Projekt drehen, bei dem \n",
      "Werbematerialien für ein neues Bau- oder Infrastrukturprojekt entwickelt werden, bei dem dieses \n",
      "innovative Material zum Einsatz kommt. Das Projekt sollte in einem Umfeld angesiedelt sein, in dem die \n",
      "einzigartigen Eigenschaften des Materials bestehende Probleme lösen könnten, \n",
      "es aber möglicherweise noch zugrundeliegende Herausforderungen gibt, \n",
      "die in den Werbematerialien nicht vollständig angesprochen werden. \n",
      "Verwende dabei alle Wörter aus der folgenden Liste.>\n",
      "\n",
      "<Liste:\n",
      "(aktive Formänderung durch Umwelteinwirkung, reaktionsfähig, passive Formänderung durch Umwelteinwirkung, autonom, passive Verhaltensänderung durch Umwelteinwirkung, aktive Verhaltensänderung durch Umwelteinwirkung, intelligent, multifunktional, technologisch, zuverlässig, wartungsfrei, selbstheilend, widerstandsfähig, selbstreparierend, haltbar, robust, langlebig)>\n",
      "\n",
      "<Aufgabenstellungen:\n",
      "1) Der Text muss weniger als 200 Wörter beinhalten.\n",
      "2) Schreibe neutral aus der Dritten Person.\n",
      "3) Die Anwendung muss plausibel sein.\n",
      "4) Gehe Schritt für Schritt vor. \n",
      "5) Verwende alle Wörter, die in der Liste angegeben sind.>\n",
      "\n",
      "    Answer: \n"
     ]
    }
   ],
   "source": [
    "pi=reload(pi)\n",
    "chosen_partitions = [1, 2] \n",
    "examplary_template = pi.prompt_template(df_partitions, chosen_partitions, prompt_text)\n",
    "print(examplary_template)"
   ]
  },
  {
   "cell_type": "code",
   "execution_count": 37,
   "metadata": {},
   "outputs": [
    {
     "ename": "AttributeError",
     "evalue": "module 'src.API_key' has no attribute 'openai_api_key'",
     "output_type": "error",
     "traceback": [
      "\u001b[1;31m---------------------------------------------------------------------------\u001b[0m",
      "\u001b[1;31mAttributeError\u001b[0m                            Traceback (most recent call last)",
      "Cell \u001b[1;32mIn[37], line 1\u001b[0m\n\u001b[1;32m----> 1\u001b[0m api_key \u001b[38;5;241m=\u001b[39m \u001b[43mkey\u001b[49m\u001b[38;5;241;43m.\u001b[39;49m\u001b[43mopenai_api_key\u001b[49m\n",
      "\u001b[1;31mAttributeError\u001b[0m: module 'src.API_key' has no attribute 'openai_api_key'"
     ]
    }
   ],
   "source": [
    "key=reload(key)\n",
    "api_key = key.openai_api_key"
   ]
  },
  {
   "cell_type": "code",
   "execution_count": 21,
   "metadata": {},
   "outputs": [
    {
     "ename": "ValidationError",
     "evalue": "2 validation errors for ChatOpenAI\napi_key\n  str type expected (type=type_error.str)\n__root__\n  Did not find openai_api_key, please add an environment variable `OPENAI_API_KEY` which contains it, or pass `openai_api_key` as a named parameter. (type=value_error)",
     "output_type": "error",
     "traceback": [
      "\u001b[1;31m---------------------------------------------------------------------------\u001b[0m",
      "\u001b[1;31mValidationError\u001b[0m                           Traceback (most recent call last)",
      "Cell \u001b[1;32mIn[21], line 1\u001b[0m\n\u001b[1;32m----> 1\u001b[0m result, full_response \u001b[38;5;241m=\u001b[39m \u001b[43mpi\u001b[49m\u001b[38;5;241;43m.\u001b[39;49m\u001b[43mprocess_partitions\u001b[49m\u001b[43m(\u001b[49m\u001b[43mdf_partitions\u001b[49m\u001b[43m,\u001b[49m\u001b[43m \u001b[49m\u001b[43mprompt_text\u001b[49m\u001b[43m,\u001b[49m\u001b[43m \u001b[49m\u001b[43mapi_key\u001b[49m\u001b[43m,\u001b[49m\u001b[43m \u001b[49m\u001b[43mmodel\u001b[49m\u001b[38;5;241;43m=\u001b[39;49m\u001b[38;5;124;43m\"\u001b[39;49m\u001b[38;5;124;43mgpt-4\u001b[39;49m\u001b[38;5;124;43m\"\u001b[39;49m\u001b[43m,\u001b[49m\u001b[43m \u001b[49m\u001b[43mchosen_partitions\u001b[49m\u001b[38;5;241;43m=\u001b[39;49m\u001b[43m[\u001b[49m\u001b[43m(\u001b[49m\u001b[38;5;241;43m1\u001b[39;49m\u001b[43m,\u001b[49m\u001b[38;5;241;43m2\u001b[39;49m\u001b[43m)\u001b[49m\u001b[43m]\u001b[49m\u001b[43m,\u001b[49m\u001b[43m \u001b[49m\u001b[43mmax_tokens\u001b[49m\u001b[38;5;241;43m=\u001b[39;49m\u001b[38;5;241;43m500\u001b[39;49m\u001b[43m,\u001b[49m\u001b[43m \u001b[49m\u001b[43mmax_API_calls\u001b[49m\u001b[38;5;241;43m=\u001b[39;49m\u001b[38;5;241;43m1\u001b[39;49m\u001b[43m)\u001b[49m\n",
      "File \u001b[1;32mC:\\DATEN\\PHD\\Article_BasalAttributes\\Analyses\\part_III\\src\\prompt_functions.py:182\u001b[0m, in \u001b[0;36mprocess_partitions\u001b[1;34m(df, prompt_text, openai_api_key, model, chosen_partitions, max_tokens, max_API_calls, wait_seconds)\u001b[0m\n\u001b[0;32m    179\u001b[0m filtered_df \u001b[38;5;241m=\u001b[39m df[df[\u001b[38;5;124m\"\u001b[39m\u001b[38;5;124mpartition\u001b[39m\u001b[38;5;124m\"\u001b[39m]\u001b[38;5;241m.\u001b[39misin(partitions)]\n\u001b[0;32m    180\u001b[0m words_list \u001b[38;5;241m=\u001b[39m \u001b[38;5;124m\"\u001b[39m\u001b[38;5;124m, \u001b[39m\u001b[38;5;124m\"\u001b[39m\u001b[38;5;241m.\u001b[39mjoin(filtered_df[\u001b[38;5;124m\"\u001b[39m\u001b[38;5;124mwords\u001b[39m\u001b[38;5;124m\"\u001b[39m]\u001b[38;5;241m.\u001b[39mtolist())\n\u001b[1;32m--> 182\u001b[0m response \u001b[38;5;241m=\u001b[39m \u001b[43mbasic_API_call\u001b[49m\u001b[43m(\u001b[49m\n\u001b[0;32m    183\u001b[0m \u001b[43m    \u001b[49m\u001b[43mopenai_api_key\u001b[49m\u001b[38;5;241;43m=\u001b[39;49m\u001b[43mopenai_api_key\u001b[49m\u001b[43m,\u001b[49m\n\u001b[0;32m    184\u001b[0m \u001b[43m    \u001b[49m\u001b[43mwords_list\u001b[49m\u001b[38;5;241;43m=\u001b[39;49m\u001b[43mwords_list\u001b[49m\u001b[43m,\u001b[49m\n\u001b[0;32m    185\u001b[0m \u001b[43m    \u001b[49m\u001b[43mtemplate\u001b[49m\u001b[38;5;241;43m=\u001b[39;49m\u001b[43mprompt_text\u001b[49m\u001b[43m,\u001b[49m\n\u001b[0;32m    186\u001b[0m \u001b[43m    \u001b[49m\u001b[43minput_variables\u001b[49m\u001b[38;5;241;43m=\u001b[39;49m\u001b[43m[\u001b[49m\n\u001b[0;32m    187\u001b[0m \u001b[43m        \u001b[49m\u001b[38;5;124;43m\"\u001b[39;49m\u001b[38;5;124;43mitems_list\u001b[39;49m\u001b[38;5;124;43m\"\u001b[39;49m\u001b[43m,\u001b[49m\n\u001b[0;32m    188\u001b[0m \u001b[43m    \u001b[49m\u001b[43m]\u001b[49m\u001b[43m,\u001b[49m\n\u001b[0;32m    189\u001b[0m \u001b[43m    \u001b[49m\u001b[43mmodel_name\u001b[49m\u001b[38;5;241;43m=\u001b[39;49m\u001b[43mmodel\u001b[49m\u001b[43m,\u001b[49m\n\u001b[0;32m    190\u001b[0m \u001b[43m    \u001b[49m\u001b[43mmax_tokens\u001b[49m\u001b[38;5;241;43m=\u001b[39;49m\u001b[43mmax_tokens\u001b[49m\u001b[43m,\u001b[49m\n\u001b[0;32m    191\u001b[0m \u001b[43m\u001b[49m\u001b[43m)\u001b[49m\n\u001b[0;32m    192\u001b[0m results\u001b[38;5;241m.\u001b[39mappend(response[\u001b[38;5;124m\"\u001b[39m\u001b[38;5;124mtext\u001b[39m\u001b[38;5;124m\"\u001b[39m])\n\u001b[0;32m    193\u001b[0m response_full\u001b[38;5;241m.\u001b[39mappend(response)\n",
      "File \u001b[1;32mC:\\DATEN\\PHD\\Article_BasalAttributes\\Analyses\\part_III\\src\\prompt_functions.py:132\u001b[0m, in \u001b[0;36mbasic_API_call\u001b[1;34m(openai_api_key, words_list, template, input_variables, model_name, max_tokens)\u001b[0m\n\u001b[0;32m    128\u001b[0m \u001b[38;5;66;03m# top_p_value = float(\"0\")\u001b[39;00m\n\u001b[0;32m    129\u001b[0m seed \u001b[38;5;241m=\u001b[39m \u001b[38;5;241m123\u001b[39m\n\u001b[0;32m    130\u001b[0m llm_chain \u001b[38;5;241m=\u001b[39m LLMChain(\n\u001b[0;32m    131\u001b[0m     prompt\u001b[38;5;241m=\u001b[39mprompt,\n\u001b[1;32m--> 132\u001b[0m     llm\u001b[38;5;241m=\u001b[39m\u001b[43mChatOpenAI\u001b[49m\u001b[43m(\u001b[49m\n\u001b[0;32m    133\u001b[0m \u001b[43m        \u001b[49m\u001b[38;5;66;43;03m# llm=OpenAI(\u001b[39;49;00m\n\u001b[0;32m    134\u001b[0m \u001b[43m        \u001b[49m\u001b[43mtemperature\u001b[49m\u001b[38;5;241;43m=\u001b[39;49m\u001b[38;5;241;43m0.0\u001b[39;49m\u001b[43m,\u001b[49m\n\u001b[0;32m    135\u001b[0m \u001b[43m        \u001b[49m\u001b[43mopenai_api_key\u001b[49m\u001b[38;5;241;43m=\u001b[39;49m\u001b[43mopenai_api_key\u001b[49m\u001b[43m,\u001b[49m\n\u001b[0;32m    136\u001b[0m \u001b[43m        \u001b[49m\u001b[43mmodel_name\u001b[49m\u001b[38;5;241;43m=\u001b[39;49m\u001b[43mmodel_name\u001b[49m\u001b[43m,\u001b[49m\n\u001b[0;32m    137\u001b[0m \u001b[43m        \u001b[49m\u001b[43mmax_tokens\u001b[49m\u001b[38;5;241;43m=\u001b[39;49m\u001b[43mmax_tokens\u001b[49m\u001b[43m,\u001b[49m\n\u001b[0;32m    138\u001b[0m \u001b[43m        \u001b[49m\u001b[38;5;66;43;03m# model_kwargs={\"top_p\": top_p_value, \"seed\": seed},\u001b[39;49;00m\n\u001b[0;32m    139\u001b[0m \u001b[43m        \u001b[49m\u001b[43mmodel_kwargs\u001b[49m\u001b[38;5;241;43m=\u001b[39;49m\u001b[43m{\u001b[49m\u001b[38;5;124;43m\"\u001b[39;49m\u001b[38;5;124;43mseed\u001b[39;49m\u001b[38;5;124;43m\"\u001b[39;49m\u001b[43m:\u001b[49m\u001b[43m \u001b[49m\u001b[43mseed\u001b[49m\u001b[43m}\u001b[49m\u001b[43m,\u001b[49m\n\u001b[0;32m    140\u001b[0m \u001b[43m    \u001b[49m\u001b[43m)\u001b[49m,\n\u001b[0;32m    141\u001b[0m     return_final_only\u001b[38;5;241m=\u001b[39m\u001b[38;5;28;01mFalse\u001b[39;00m,\n\u001b[0;32m    142\u001b[0m )\n\u001b[0;32m    144\u001b[0m \u001b[38;5;28;01mwith\u001b[39;00m get_openai_callback() \u001b[38;5;28;01mas\u001b[39;00m cb:\n\u001b[0;32m    145\u001b[0m     response \u001b[38;5;241m=\u001b[39m llm_chain\u001b[38;5;241m.\u001b[39minvoke(\n\u001b[0;32m    146\u001b[0m         {\n\u001b[0;32m    147\u001b[0m             \u001b[38;5;124m\"\u001b[39m\u001b[38;5;124mitems_list\u001b[39m\u001b[38;5;124m\"\u001b[39m: words_list,\n\u001b[0;32m    148\u001b[0m         }\n\u001b[0;32m    149\u001b[0m     )\n",
      "File \u001b[1;32mc:\\Users\\fenn\\AppData\\Local\\R-MINI~1\\lib\\site-packages\\pydantic\\v1\\main.py:341\u001b[0m, in \u001b[0;36mBaseModel.__init__\u001b[1;34m(__pydantic_self__, **data)\u001b[0m\n\u001b[0;32m    339\u001b[0m values, fields_set, validation_error \u001b[38;5;241m=\u001b[39m validate_model(__pydantic_self__\u001b[38;5;241m.\u001b[39m\u001b[38;5;18m__class__\u001b[39m, data)\n\u001b[0;32m    340\u001b[0m \u001b[38;5;28;01mif\u001b[39;00m validation_error:\n\u001b[1;32m--> 341\u001b[0m     \u001b[38;5;28;01mraise\u001b[39;00m validation_error\n\u001b[0;32m    342\u001b[0m \u001b[38;5;28;01mtry\u001b[39;00m:\n\u001b[0;32m    343\u001b[0m     object_setattr(__pydantic_self__, \u001b[38;5;124m'\u001b[39m\u001b[38;5;124m__dict__\u001b[39m\u001b[38;5;124m'\u001b[39m, values)\n",
      "\u001b[1;31mValidationError\u001b[0m: 2 validation errors for ChatOpenAI\napi_key\n  str type expected (type=type_error.str)\n__root__\n  Did not find openai_api_key, please add an environment variable `OPENAI_API_KEY` which contains it, or pass `openai_api_key` as a named parameter. (type=value_error)"
     ]
    }
   ],
   "source": [
    "result, full_response = pi.process_partitions(df_partitions, prompt_text, api_key, model=\"gpt-4\", chosen_partitions=[(1,2)], max_tokens=500, max_API_calls=1) "
   ]
  },
  {
   "cell_type": "code",
   "execution_count": 128,
   "metadata": {},
   "outputs": [
    {
     "data": {
      "text/plain": [
       "[{'items_list': 'aktive Formänderung durch Umwelteinwirkung, reaktionsfähig, passive Formänderung durch Umwelteinwirkung, autonom, passive Verhaltensänderung durch Umwelteinwirkung, aktive Verhaltensänderung durch Umwelteinwirkung, intelligent, multifunktional, technologisch, zuverlässig, wartungsfrei, selbstheilend, widerstandsfähig, selbstreparierend, haltbar, robust, langlebig',\n",
       "  'text': 'In der pulsierenden Metropole New York entsteht ein revolutionäres Infrastrukturprojekt: Die Brooklyn Bridge 2.0. Die Werbematerialien preisen das innovative Material, das in diesem Projekt zum Einsatz kommt, als technologisch fortschrittlich und multifunktional. Es ist intelligent und autonom, reagiert auf Umwelteinwirkungen mit aktiver und passiver Formänderung sowie Verhaltensänderung. \\n\\nDie Brücke ist robust und widerstandsfähig gegenüber extremen Wetterbedingungen, dank ihrer Fähigkeit zur aktiven Formänderung durch Umwelteinwirkung. Sie ist zuverlässig und langlebig, da sie wartungsfrei ist und eine passive Verhaltensänderung durch Umwelteinwirkung aufweist. \\n\\nDas Material ist selbstheilend und selbstreparierend, was es besonders haltbar macht. Es ist reaktionsfähig und passt sich autonom an die Umweltbedingungen an, was es zu einer passiven Formänderung durch Umwelteinwirkung befähigt. \\n\\nTrotz der beeindruckenden Eigenschaften des Materials, bleiben Herausforderungen. Die Werbematerialien erwähnen nicht, dass die Technologie noch in der Testphase ist und ihre tatsächliche Leistungsfähigkeit und Langlebigkeit noch nicht vollständig bewiesen sind. Dennoch bleibt die Brooklyn Bridge 2.0 ein vielversprechendes Projekt, das die Zukunft der Infrastrukturtechnologie verändern könnte.',\n",
       "  'full_generation': [ChatGeneration(text='In der pulsierenden Metropole New York entsteht ein revolutionäres Infrastrukturprojekt: Die Brooklyn Bridge 2.0. Die Werbematerialien preisen das innovative Material, das in diesem Projekt zum Einsatz kommt, als technologisch fortschrittlich und multifunktional. Es ist intelligent und autonom, reagiert auf Umwelteinwirkungen mit aktiver und passiver Formänderung sowie Verhaltensänderung. \\n\\nDie Brücke ist robust und widerstandsfähig gegenüber extremen Wetterbedingungen, dank ihrer Fähigkeit zur aktiven Formänderung durch Umwelteinwirkung. Sie ist zuverlässig und langlebig, da sie wartungsfrei ist und eine passive Verhaltensänderung durch Umwelteinwirkung aufweist. \\n\\nDas Material ist selbstheilend und selbstreparierend, was es besonders haltbar macht. Es ist reaktionsfähig und passt sich autonom an die Umweltbedingungen an, was es zu einer passiven Formänderung durch Umwelteinwirkung befähigt. \\n\\nTrotz der beeindruckenden Eigenschaften des Materials, bleiben Herausforderungen. Die Werbematerialien erwähnen nicht, dass die Technologie noch in der Testphase ist und ihre tatsächliche Leistungsfähigkeit und Langlebigkeit noch nicht vollständig bewiesen sind. Dennoch bleibt die Brooklyn Bridge 2.0 ein vielversprechendes Projekt, das die Zukunft der Infrastrukturtechnologie verändern könnte.', generation_info={'finish_reason': 'stop', 'logprobs': None}, message=AIMessage(content='In der pulsierenden Metropole New York entsteht ein revolutionäres Infrastrukturprojekt: Die Brooklyn Bridge 2.0. Die Werbematerialien preisen das innovative Material, das in diesem Projekt zum Einsatz kommt, als technologisch fortschrittlich und multifunktional. Es ist intelligent und autonom, reagiert auf Umwelteinwirkungen mit aktiver und passiver Formänderung sowie Verhaltensänderung. \\n\\nDie Brücke ist robust und widerstandsfähig gegenüber extremen Wetterbedingungen, dank ihrer Fähigkeit zur aktiven Formänderung durch Umwelteinwirkung. Sie ist zuverlässig und langlebig, da sie wartungsfrei ist und eine passive Verhaltensänderung durch Umwelteinwirkung aufweist. \\n\\nDas Material ist selbstheilend und selbstreparierend, was es besonders haltbar macht. Es ist reaktionsfähig und passt sich autonom an die Umweltbedingungen an, was es zu einer passiven Formänderung durch Umwelteinwirkung befähigt. \\n\\nTrotz der beeindruckenden Eigenschaften des Materials, bleiben Herausforderungen. Die Werbematerialien erwähnen nicht, dass die Technologie noch in der Testphase ist und ihre tatsächliche Leistungsfähigkeit und Langlebigkeit noch nicht vollständig bewiesen sind. Dennoch bleibt die Brooklyn Bridge 2.0 ein vielversprechendes Projekt, das die Zukunft der Infrastrukturtechnologie verändern könnte.', response_metadata={'token_usage': {'completion_tokens': 342, 'prompt_tokens': 384, 'total_tokens': 726}, 'model_name': 'gpt-4', 'system_fingerprint': None, 'finish_reason': 'stop', 'logprobs': None}, id='run-3594ece1-b6d1-40cc-b4bb-88ee9311d705-0'))]}]"
      ]
     },
     "execution_count": 128,
     "metadata": {},
     "output_type": "execute_result"
    }
   ],
   "source": [
    "full_response"
   ]
  },
  {
   "cell_type": "code",
   "execution_count": 129,
   "metadata": {},
   "outputs": [
    {
     "data": {
      "text/plain": [
       "['In der pulsierenden Metropole New York entsteht ein revolutionäres Infrastrukturprojekt: Die Brooklyn Bridge 2.0. Die Werbematerialien preisen das innovative Material, das in diesem Projekt zum Einsatz kommt, als technologisch fortschrittlich und multifunktional. Es ist intelligent und autonom, reagiert auf Umwelteinwirkungen mit aktiver und passiver Formänderung sowie Verhaltensänderung. \\n\\nDie Brücke ist robust und widerstandsfähig gegenüber extremen Wetterbedingungen, dank ihrer Fähigkeit zur aktiven Formänderung durch Umwelteinwirkung. Sie ist zuverlässig und langlebig, da sie wartungsfrei ist und eine passive Verhaltensänderung durch Umwelteinwirkung aufweist. \\n\\nDas Material ist selbstheilend und selbstreparierend, was es besonders haltbar macht. Es ist reaktionsfähig und passt sich autonom an die Umweltbedingungen an, was es zu einer passiven Formänderung durch Umwelteinwirkung befähigt. \\n\\nTrotz der beeindruckenden Eigenschaften des Materials, bleiben Herausforderungen. Die Werbematerialien erwähnen nicht, dass die Technologie noch in der Testphase ist und ihre tatsächliche Leistungsfähigkeit und Langlebigkeit noch nicht vollständig bewiesen sind. Dennoch bleibt die Brooklyn Bridge 2.0 ein vielversprechendes Projekt, das die Zukunft der Infrastrukturtechnologie verändern könnte.']"
      ]
     },
     "execution_count": 129,
     "metadata": {},
     "output_type": "execute_result"
    }
   ],
   "source": [
    "result"
   ]
  },
  {
   "cell_type": "code",
   "execution_count": 130,
   "metadata": {},
   "outputs": [
    {
     "name": "stdout",
     "output_type": "stream",
     "text": [
      "File already exists. Using new filename: ./output/result_1.csv\n",
      "Data has been written to ./output/result_1.csv\n"
     ]
    },
    {
     "data": {
      "text/plain": [
       "'./output/result_1.csv'"
      ]
     },
     "execution_count": 130,
     "metadata": {},
     "output_type": "execute_result"
    }
   ],
   "source": [
    "get_data.save_results_to_csv('result.csv', result)"
   ]
  },
  {
   "cell_type": "code",
   "execution_count": 131,
   "metadata": {},
   "outputs": [],
   "source": [
    "result_df = pd.read_csv('./output/result.csv')"
   ]
  },
  {
   "cell_type": "code",
   "execution_count": 133,
   "metadata": {},
   "outputs": [
    {
     "name": "stdout",
     "output_type": "stream",
     "text": [
      "Missing Words:\n",
      "None\n",
      "\n",
      "Partial Matches:\n",
      "- 'autonom' (from the phrase 'autonom') partially matches with 'autonome' in the text.\n",
      "- 'intelligent' (from the phrase 'intelligent') partially matches with 'in' in the text.\n",
      "- 'multifunktional' (from the phrase 'multifunktional') partially matches with 'multifunktionalen' in the text.\n",
      "\n"
     ]
    }
   ],
   "source": [
    "get_data=reload(get_data)\n",
    "text_check = get_data.check_for_missing_matching_words(result_df['text'], df_partitions, [1,2], 0.5)\n",
    "print(text_check)"
   ]
  }
 ],
 "metadata": {
  "kernelspec": {
   "display_name": "spaceenvironment",
   "language": "python",
   "name": "python3"
  },
  "language_info": {
   "codemirror_mode": {
    "name": "ipython",
    "version": 3
   },
   "file_extension": ".py",
   "mimetype": "text/x-python",
   "name": "python",
   "nbconvert_exporter": "python",
   "pygments_lexer": "ipython3",
   "version": "3.10.14"
  }
 },
 "nbformat": 4,
 "nbformat_minor": 2
}
