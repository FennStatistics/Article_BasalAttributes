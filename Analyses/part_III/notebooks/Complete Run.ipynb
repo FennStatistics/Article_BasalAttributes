{
 "cells": [
  {
   "cell_type": "code",
   "execution_count": 154,
   "metadata": {},
   "outputs": [
    {
     "name": "stdout",
     "output_type": "stream",
     "text": [
      "C:\\DATEN\\PHD\\Article_BasalAttributes\\Analyses\n"
     ]
    },
    {
     "name": "stderr",
     "output_type": "stream",
     "text": [
      "c:\\Users\\fenn\\AppData\\Local\\R-MINI~1\\lib\\site-packages\\IPython\\core\\magics\\osm.py:417: UserWarning: using dhist requires you to install the `pickleshare` library.\n",
      "  self.shell.db['dhist'] = compress_dhist(dhist)[-100:]\n"
     ]
    }
   ],
   "source": [
    "%cd ./../"
   ]
  },
  {
   "cell_type": "code",
   "execution_count": 155,
   "metadata": {},
   "outputs": [],
   "source": [
    "import os\n",
    "os.chdir('C:/DATEN/PHD/Article_BasalAttributes/Analyses/part_III')\n",
    "from importlib import reload\n",
    "import pandas as pd\n",
    "\n",
    "import src.prompt_functions as pi\n",
    "import src.prompt_text as pt\n",
    "import src.get_data as get_data\n",
    "import src.API_key as key"
   ]
  },
  {
   "cell_type": "code",
   "execution_count": 156,
   "metadata": {},
   "outputs": [],
   "source": [
    "df_partitions = pd.read_excel('./data/LeidenAlgorithm_solution.xlsx')\n",
    "df_partitions.rename(columns={'parition': 'partition'}, inplace=True)"
   ]
  },
  {
   "cell_type": "code",
   "execution_count": 157,
   "metadata": {},
   "outputs": [
    {
     "data": {
      "text/html": [
       "<div>\n",
       "<style scoped>\n",
       "    .dataframe tbody tr th:only-of-type {\n",
       "        vertical-align: middle;\n",
       "    }\n",
       "\n",
       "    .dataframe tbody tr th {\n",
       "        vertical-align: top;\n",
       "    }\n",
       "\n",
       "    .dataframe thead th {\n",
       "        text-align: right;\n",
       "    }\n",
       "</style>\n",
       "<table border=\"1\" class=\"dataframe\">\n",
       "  <thead>\n",
       "    <tr style=\"text-align: right;\">\n",
       "      <th></th>\n",
       "      <th>Unnamed: 0</th>\n",
       "      <th>partition</th>\n",
       "      <th>words</th>\n",
       "      <th>mean_valence</th>\n",
       "      <th>sd_valence</th>\n",
       "    </tr>\n",
       "  </thead>\n",
       "  <tbody>\n",
       "    <tr>\n",
       "      <th>0</th>\n",
       "      <td>1</td>\n",
       "      <td>1</td>\n",
       "      <td>aktive Formänderung durch Umwelteinwirkung</td>\n",
       "      <td>0.177515</td>\n",
       "      <td>1.140892</td>\n",
       "    </tr>\n",
       "    <tr>\n",
       "      <th>1</th>\n",
       "      <td>2</td>\n",
       "      <td>1</td>\n",
       "      <td>reaktionsfähig</td>\n",
       "      <td>0.668639</td>\n",
       "      <td>1.111209</td>\n",
       "    </tr>\n",
       "    <tr>\n",
       "      <th>2</th>\n",
       "      <td>3</td>\n",
       "      <td>1</td>\n",
       "      <td>passive Formänderung durch Umwelteinwirkung</td>\n",
       "      <td>-0.017751</td>\n",
       "      <td>1.131126</td>\n",
       "    </tr>\n",
       "    <tr>\n",
       "      <th>3</th>\n",
       "      <td>4</td>\n",
       "      <td>1</td>\n",
       "      <td>autonom</td>\n",
       "      <td>0.751479</td>\n",
       "      <td>0.949819</td>\n",
       "    </tr>\n",
       "    <tr>\n",
       "      <th>4</th>\n",
       "      <td>5</td>\n",
       "      <td>1</td>\n",
       "      <td>passive Verhaltensänderung durch Umwelteinwirkung</td>\n",
       "      <td>0.059172</td>\n",
       "      <td>1.056184</td>\n",
       "    </tr>\n",
       "    <tr>\n",
       "      <th>5</th>\n",
       "      <td>6</td>\n",
       "      <td>1</td>\n",
       "      <td>aktive Verhaltensänderung durch Umwelteinwirkung</td>\n",
       "      <td>0.272189</td>\n",
       "      <td>1.148185</td>\n",
       "    </tr>\n",
       "    <tr>\n",
       "      <th>6</th>\n",
       "      <td>7</td>\n",
       "      <td>1</td>\n",
       "      <td>intelligent</td>\n",
       "      <td>1.349112</td>\n",
       "      <td>1.103033</td>\n",
       "    </tr>\n",
       "    <tr>\n",
       "      <th>7</th>\n",
       "      <td>8</td>\n",
       "      <td>1</td>\n",
       "      <td>multifunktional</td>\n",
       "      <td>1.650888</td>\n",
       "      <td>1.024702</td>\n",
       "    </tr>\n",
       "    <tr>\n",
       "      <th>8</th>\n",
       "      <td>9</td>\n",
       "      <td>1</td>\n",
       "      <td>technologisch</td>\n",
       "      <td>0.763314</td>\n",
       "      <td>0.959081</td>\n",
       "    </tr>\n",
       "    <tr>\n",
       "      <th>9</th>\n",
       "      <td>10</td>\n",
       "      <td>2</td>\n",
       "      <td>zuverlässig</td>\n",
       "      <td>2.171598</td>\n",
       "      <td>1.017770</td>\n",
       "    </tr>\n",
       "    <tr>\n",
       "      <th>10</th>\n",
       "      <td>11</td>\n",
       "      <td>2</td>\n",
       "      <td>wartungsfrei</td>\n",
       "      <td>1.751479</td>\n",
       "      <td>1.158720</td>\n",
       "    </tr>\n",
       "    <tr>\n",
       "      <th>11</th>\n",
       "      <td>12</td>\n",
       "      <td>2</td>\n",
       "      <td>selbstheilend</td>\n",
       "      <td>1.650888</td>\n",
       "      <td>1.124411</td>\n",
       "    </tr>\n",
       "    <tr>\n",
       "      <th>12</th>\n",
       "      <td>13</td>\n",
       "      <td>2</td>\n",
       "      <td>widerstandsfähig</td>\n",
       "      <td>1.739645</td>\n",
       "      <td>1.053747</td>\n",
       "    </tr>\n",
       "    <tr>\n",
       "      <th>13</th>\n",
       "      <td>14</td>\n",
       "      <td>2</td>\n",
       "      <td>selbstreparierend</td>\n",
       "      <td>1.786982</td>\n",
       "      <td>1.064389</td>\n",
       "    </tr>\n",
       "    <tr>\n",
       "      <th>14</th>\n",
       "      <td>15</td>\n",
       "      <td>2</td>\n",
       "      <td>haltbar</td>\n",
       "      <td>1.928994</td>\n",
       "      <td>1.131655</td>\n",
       "    </tr>\n",
       "    <tr>\n",
       "      <th>15</th>\n",
       "      <td>16</td>\n",
       "      <td>2</td>\n",
       "      <td>robust</td>\n",
       "      <td>1.822485</td>\n",
       "      <td>0.965705</td>\n",
       "    </tr>\n",
       "    <tr>\n",
       "      <th>16</th>\n",
       "      <td>17</td>\n",
       "      <td>2</td>\n",
       "      <td>langlebig</td>\n",
       "      <td>2.218935</td>\n",
       "      <td>1.008592</td>\n",
       "    </tr>\n",
       "    <tr>\n",
       "      <th>17</th>\n",
       "      <td>18</td>\n",
       "      <td>3</td>\n",
       "      <td>Akzeptanz eines neuen Materialsystems</td>\n",
       "      <td>0.355030</td>\n",
       "      <td>0.854603</td>\n",
       "    </tr>\n",
       "    <tr>\n",
       "      <th>18</th>\n",
       "      <td>19</td>\n",
       "      <td>3</td>\n",
       "      <td>wartungsintensiv</td>\n",
       "      <td>-2.041420</td>\n",
       "      <td>1.008033</td>\n",
       "    </tr>\n",
       "    <tr>\n",
       "      <th>19</th>\n",
       "      <td>20</td>\n",
       "      <td>3</td>\n",
       "      <td>enthält Kunststoff</td>\n",
       "      <td>-1.041420</td>\n",
       "      <td>1.125225</td>\n",
       "    </tr>\n",
       "    <tr>\n",
       "      <th>20</th>\n",
       "      <td>21</td>\n",
       "      <td>3</td>\n",
       "      <td>leicht zerstörbar</td>\n",
       "      <td>-1.798817</td>\n",
       "      <td>1.403990</td>\n",
       "    </tr>\n",
       "    <tr>\n",
       "      <th>21</th>\n",
       "      <td>22</td>\n",
       "      <td>3</td>\n",
       "      <td>umweltschädlich</td>\n",
       "      <td>-2.603550</td>\n",
       "      <td>0.927227</td>\n",
       "    </tr>\n",
       "    <tr>\n",
       "      <th>22</th>\n",
       "      <td>23</td>\n",
       "      <td>4</td>\n",
       "      <td>Energie speichernd</td>\n",
       "      <td>1.497041</td>\n",
       "      <td>0.994774</td>\n",
       "    </tr>\n",
       "    <tr>\n",
       "      <th>23</th>\n",
       "      <td>24</td>\n",
       "      <td>4</td>\n",
       "      <td>energieeffizient</td>\n",
       "      <td>2.076923</td>\n",
       "      <td>1.011835</td>\n",
       "    </tr>\n",
       "    <tr>\n",
       "      <th>24</th>\n",
       "      <td>25</td>\n",
       "      <td>4</td>\n",
       "      <td>energieautonom</td>\n",
       "      <td>1.426036</td>\n",
       "      <td>1.067165</td>\n",
       "    </tr>\n",
       "    <tr>\n",
       "      <th>25</th>\n",
       "      <td>26</td>\n",
       "      <td>4</td>\n",
       "      <td>Energie generierend</td>\n",
       "      <td>1.715976</td>\n",
       "      <td>1.181118</td>\n",
       "    </tr>\n",
       "    <tr>\n",
       "      <th>26</th>\n",
       "      <td>27</td>\n",
       "      <td>5</td>\n",
       "      <td>ökologisch</td>\n",
       "      <td>1.899408</td>\n",
       "      <td>1.044515</td>\n",
       "    </tr>\n",
       "    <tr>\n",
       "      <th>27</th>\n",
       "      <td>28</td>\n",
       "      <td>5</td>\n",
       "      <td>elektronikfrei</td>\n",
       "      <td>0.455621</td>\n",
       "      <td>1.074369</td>\n",
       "    </tr>\n",
       "    <tr>\n",
       "      <th>28</th>\n",
       "      <td>29</td>\n",
       "      <td>5</td>\n",
       "      <td>nachhaltig</td>\n",
       "      <td>2.384615</td>\n",
       "      <td>0.981981</td>\n",
       "    </tr>\n",
       "    <tr>\n",
       "      <th>29</th>\n",
       "      <td>30</td>\n",
       "      <td>5</td>\n",
       "      <td>umweltfreundlich</td>\n",
       "      <td>2.491124</td>\n",
       "      <td>0.932983</td>\n",
       "    </tr>\n",
       "    <tr>\n",
       "      <th>30</th>\n",
       "      <td>31</td>\n",
       "      <td>6</td>\n",
       "      <td>Insekten ähnlich</td>\n",
       "      <td>-0.118343</td>\n",
       "      <td>1.143390</td>\n",
       "    </tr>\n",
       "    <tr>\n",
       "      <th>31</th>\n",
       "      <td>32</td>\n",
       "      <td>6</td>\n",
       "      <td>bioinspiriert</td>\n",
       "      <td>0.781065</td>\n",
       "      <td>1.031929</td>\n",
       "    </tr>\n",
       "    <tr>\n",
       "      <th>32</th>\n",
       "      <td>33</td>\n",
       "      <td>6</td>\n",
       "      <td>lebensähnlich</td>\n",
       "      <td>0.325444</td>\n",
       "      <td>0.922924</td>\n",
       "    </tr>\n",
       "  </tbody>\n",
       "</table>\n",
       "</div>"
      ],
      "text/plain": [
       "    Unnamed: 0  partition                                              words  \\\n",
       "0            1          1         aktive Formänderung durch Umwelteinwirkung   \n",
       "1            2          1                                     reaktionsfähig   \n",
       "2            3          1        passive Formänderung durch Umwelteinwirkung   \n",
       "3            4          1                                            autonom   \n",
       "4            5          1  passive Verhaltensänderung durch Umwelteinwirkung   \n",
       "5            6          1   aktive Verhaltensänderung durch Umwelteinwirkung   \n",
       "6            7          1                                        intelligent   \n",
       "7            8          1                                    multifunktional   \n",
       "8            9          1                                      technologisch   \n",
       "9           10          2                                        zuverlässig   \n",
       "10          11          2                                       wartungsfrei   \n",
       "11          12          2                                      selbstheilend   \n",
       "12          13          2                                   widerstandsfähig   \n",
       "13          14          2                                  selbstreparierend   \n",
       "14          15          2                                            haltbar   \n",
       "15          16          2                                             robust   \n",
       "16          17          2                                          langlebig   \n",
       "17          18          3              Akzeptanz eines neuen Materialsystems   \n",
       "18          19          3                                   wartungsintensiv   \n",
       "19          20          3                                 enthält Kunststoff   \n",
       "20          21          3                                  leicht zerstörbar   \n",
       "21          22          3                                    umweltschädlich   \n",
       "22          23          4                                 Energie speichernd   \n",
       "23          24          4                                   energieeffizient   \n",
       "24          25          4                                     energieautonom   \n",
       "25          26          4                                Energie generierend   \n",
       "26          27          5                                         ökologisch   \n",
       "27          28          5                                     elektronikfrei   \n",
       "28          29          5                                         nachhaltig   \n",
       "29          30          5                                   umweltfreundlich   \n",
       "30          31          6                                   Insekten ähnlich   \n",
       "31          32          6                                      bioinspiriert   \n",
       "32          33          6                                      lebensähnlich   \n",
       "\n",
       "    mean_valence  sd_valence  \n",
       "0       0.177515    1.140892  \n",
       "1       0.668639    1.111209  \n",
       "2      -0.017751    1.131126  \n",
       "3       0.751479    0.949819  \n",
       "4       0.059172    1.056184  \n",
       "5       0.272189    1.148185  \n",
       "6       1.349112    1.103033  \n",
       "7       1.650888    1.024702  \n",
       "8       0.763314    0.959081  \n",
       "9       2.171598    1.017770  \n",
       "10      1.751479    1.158720  \n",
       "11      1.650888    1.124411  \n",
       "12      1.739645    1.053747  \n",
       "13      1.786982    1.064389  \n",
       "14      1.928994    1.131655  \n",
       "15      1.822485    0.965705  \n",
       "16      2.218935    1.008592  \n",
       "17      0.355030    0.854603  \n",
       "18     -2.041420    1.008033  \n",
       "19     -1.041420    1.125225  \n",
       "20     -1.798817    1.403990  \n",
       "21     -2.603550    0.927227  \n",
       "22      1.497041    0.994774  \n",
       "23      2.076923    1.011835  \n",
       "24      1.426036    1.067165  \n",
       "25      1.715976    1.181118  \n",
       "26      1.899408    1.044515  \n",
       "27      0.455621    1.074369  \n",
       "28      2.384615    0.981981  \n",
       "29      2.491124    0.932983  \n",
       "30     -0.118343    1.143390  \n",
       "31      0.781065    1.031929  \n",
       "32      0.325444    0.922924  "
      ]
     },
     "execution_count": 157,
     "metadata": {},
     "output_type": "execute_result"
    }
   ],
   "source": [
    "df_partitions"
   ]
  },
  {
   "cell_type": "code",
   "execution_count": 158,
   "metadata": {},
   "outputs": [
    {
     "data": {
      "text/plain": [
       "'\\n\\n\\n\\n<Aufgabe:\\nEntwickle eine für Laien verständliche Beschreibung eines neuen Materialsystems für den Einsatz in einem realen Bau- oder Infrastrukturprojekt. Das Projekt sollte die Eigenschaften des Materials nutzen, um bestehende Probleme effektiv zu adressieren, während es auch auf mögliche Herausforderungen und Schwierigkeiten des Materialsystems eingeht. \\n\\n\\nGenrell zeichnet sich das neue Materialsystem durch neuartige Eigenschaften aus, die es von herkömmlichen Materialien unterscheidet. Verwende hierzu alle Wörter aus der folgenden Liste, um die neuartigen Eigenschaften, aber auch die bestehenden Herausforderungen des Materialsystems zu beschreiben.>\\n\\n<Liste:\\n({items_list})>\\n\\n<Aufgabenstellungen:\\n1) Der Text muss weniger als 150 Wörter beinhalten.\\n2) Schreibe neutral aus der Dritten Person und beziehe dich auf das konkrete Projekt.\\n3) Achte bei der Verwendung der Wörter darauf, nicht Wörter mit unterschiedlichen emotionalen Konnotationen zu vermischen.\\n4) Das Projekt muss konkret und plausibel sein.\\n5) Beginne mit einem einleitenden kurzen Satz, der das Projekt beschreibt.\\n6) Gehe Schritt für Schritt vor. \\n7) Verwende alle Wörter, die in der Liste angegeben sind.>\\n\\n    Answer: '"
      ]
     },
     "execution_count": 158,
     "metadata": {},
     "output_type": "execute_result"
    }
   ],
   "source": [
    "pt=reload(pt)\n",
    "prompt_text = pt.template_partitions\n",
    "prompt_text"
   ]
  },
  {
   "cell_type": "code",
   "execution_count": 159,
   "metadata": {},
   "outputs": [
    {
     "name": "stdout",
     "output_type": "stream",
     "text": [
      "\n",
      "\n",
      "\n",
      "\n",
      "<Aufgabe:\n",
      "Entwickle eine für Laien verständliche Beschreibung eines neuen Materialsystems für den Einsatz in einem realen Bau- oder Infrastrukturprojekt. Das Projekt sollte die Eigenschaften des Materials nutzen, um bestehende Probleme effektiv zu adressieren, während es auch auf mögliche Herausforderungen und Schwierigkeiten des Materialsystems eingeht. \n",
      "\n",
      "\n",
      "Genrell zeichnet sich das neue Materialsystem durch neuartige Eigenschaften aus, die es von herkömmlichen Materialien unterscheidet. Verwende hierzu alle Wörter aus der folgenden Liste, um die neuartigen Eigenschaften, aber auch die bestehenden Herausforderungen des Materialsystems zu beschreiben.>\n",
      "\n",
      "<Liste:\n",
      "(aktive Formänderung durch Umwelteinwirkung, reaktionsfähig, passive Formänderung durch Umwelteinwirkung, autonom, passive Verhaltensänderung durch Umwelteinwirkung, aktive Verhaltensänderung durch Umwelteinwirkung, intelligent, multifunktional, technologisch, zuverlässig, wartungsfrei, selbstheilend, widerstandsfähig, selbstreparierend, haltbar, robust, langlebig)>\n",
      "\n",
      "<Aufgabenstellungen:\n",
      "1) Der Text muss weniger als 150 Wörter beinhalten.\n",
      "2) Schreibe neutral aus der Dritten Person und beziehe dich auf das konkrete Projekt.\n",
      "3) Achte bei der Verwendung der Wörter darauf, nicht Wörter mit unterschiedlichen emotionalen Konnotationen zu vermischen.\n",
      "4) Das Projekt muss konkret und plausibel sein.\n",
      "5) Beginne mit einem einleitenden kurzen Satz, der das Projekt beschreibt.\n",
      "6) Gehe Schritt für Schritt vor. \n",
      "7) Verwende alle Wörter, die in der Liste angegeben sind.>\n",
      "\n",
      "    Answer: \n"
     ]
    }
   ],
   "source": [
    "pi=reload(pi)\n",
    "chosen_partitions = [1, 2] \n",
    "examplary_template = pi.prompt_template(df_partitions, chosen_partitions, prompt_text)\n",
    "print(examplary_template)"
   ]
  },
  {
   "cell_type": "code",
   "execution_count": 160,
   "metadata": {},
   "outputs": [],
   "source": [
    "key=reload(key)\n",
    "api_key = key.openai_api_key"
   ]
  },
  {
   "cell_type": "code",
   "execution_count": 161,
   "metadata": {},
   "outputs": [
    {
     "name": "stdout",
     "output_type": "stream",
     "text": [
      "[(1, 2), (1, 3), (1, 4), (1, 5), (1, 6), (2, 3), (2, 4), (2, 5), (2, 6), (3, 4), (3, 5), (3, 6), (4, 5), (4, 6), (5, 6)]\n",
      "[(1, 2), (1, 3), (1, 4), (1, 5), (1, 6), (2, 4), (2, 5), (2, 6), (3, 4), (3, 6), (4, 5), (4, 6), (5, 6)]\n"
     ]
    }
   ],
   "source": [
    "## remove tuples\n",
    "import itertools\n",
    "unique_partitions = df_partitions[\"partition\"].unique()\n",
    "all_combinations = list(itertools.combinations(unique_partitions, 2))\n",
    "print(all_combinations)\n",
    "# Tuples to remove\n",
    "to_remove = {(3, 5), (2, 3)}\n",
    "# Filter out the tuples that are to be removed\n",
    "filtered_combinations = [t for t in all_combinations if t not in to_remove]\n",
    "print(filtered_combinations)\n",
    "\n"
   ]
  },
  {
   "cell_type": "code",
   "execution_count": 162,
   "metadata": {},
   "outputs": [
    {
     "name": "stdout",
     "output_type": "stream",
     "text": [
      "Tokens Used: 531\n",
      "\tPrompt Tokens: 368\n",
      "\tCompletion Tokens: 163\n",
      "Successful Requests: 1\n",
      "Total Cost (USD): $0.020819999999999998\n"
     ]
    }
   ],
   "source": [
    "result, full_response = pi.process_partitions(df_partitions, prompt_text, api_key, model=\"gpt-4\", chosen_partitions=[(3,6)], max_tokens=500, max_API_calls=1) "
   ]
  },
  {
   "cell_type": "code",
   "execution_count": 163,
   "metadata": {},
   "outputs": [
    {
     "data": {
      "text/plain": [
       "[{'items_list': 'Akzeptanz eines neuen Materialsystems, wartungsintensiv, enthält Kunststoff, leicht zerstörbar, umweltschädlich, Insekten ähnlich, bioinspiriert, lebensähnlich',\n",
       "  'text': 'Das Projekt beinhaltet die Entwicklung eines bioinspirierten Materialsystems für den Bau von Brücken. Dieses neue Material, das Insekten ähnlich ist, ist lebensähnlich und enthält Kunststoff, was es leicht und flexibel macht. Es kann jedoch auch leicht zerstörbar sein und ist wartungsintensiv, was bedeutet, dass es regelmäßig überprüft und repariert werden muss. Darüber hinaus ist es umweltschädlich, da der Kunststoff nicht biologisch abbaubar ist. Eine der größten Herausforderungen besteht darin, die Akzeptanz dieses neuen Materialsystems in der Öffentlichkeit zu gewinnen, da es sich stark von traditionellen Baumaterialien unterscheidet.',\n",
       "  'full_generation': [ChatGeneration(text='Das Projekt beinhaltet die Entwicklung eines bioinspirierten Materialsystems für den Bau von Brücken. Dieses neue Material, das Insekten ähnlich ist, ist lebensähnlich und enthält Kunststoff, was es leicht und flexibel macht. Es kann jedoch auch leicht zerstörbar sein und ist wartungsintensiv, was bedeutet, dass es regelmäßig überprüft und repariert werden muss. Darüber hinaus ist es umweltschädlich, da der Kunststoff nicht biologisch abbaubar ist. Eine der größten Herausforderungen besteht darin, die Akzeptanz dieses neuen Materialsystems in der Öffentlichkeit zu gewinnen, da es sich stark von traditionellen Baumaterialien unterscheidet.', generation_info={'finish_reason': 'stop', 'logprobs': None}, message=AIMessage(content='Das Projekt beinhaltet die Entwicklung eines bioinspirierten Materialsystems für den Bau von Brücken. Dieses neue Material, das Insekten ähnlich ist, ist lebensähnlich und enthält Kunststoff, was es leicht und flexibel macht. Es kann jedoch auch leicht zerstörbar sein und ist wartungsintensiv, was bedeutet, dass es regelmäßig überprüft und repariert werden muss. Darüber hinaus ist es umweltschädlich, da der Kunststoff nicht biologisch abbaubar ist. Eine der größten Herausforderungen besteht darin, die Akzeptanz dieses neuen Materialsystems in der Öffentlichkeit zu gewinnen, da es sich stark von traditionellen Baumaterialien unterscheidet.', response_metadata={'token_usage': {'completion_tokens': 163, 'prompt_tokens': 368, 'total_tokens': 531}, 'model_name': 'gpt-4', 'system_fingerprint': None, 'finish_reason': 'stop', 'logprobs': None}, id='run-08d9db8c-a18d-4456-ac27-c8a48d056dca-0', usage_metadata={'input_tokens': 368, 'output_tokens': 163, 'total_tokens': 531}))]}]"
      ]
     },
     "execution_count": 163,
     "metadata": {},
     "output_type": "execute_result"
    }
   ],
   "source": [
    "full_response"
   ]
  },
  {
   "cell_type": "code",
   "execution_count": 164,
   "metadata": {},
   "outputs": [
    {
     "data": {
      "text/plain": [
       "['Das Projekt beinhaltet die Entwicklung eines bioinspirierten Materialsystems für den Bau von Brücken. Dieses neue Material, das Insekten ähnlich ist, ist lebensähnlich und enthält Kunststoff, was es leicht und flexibel macht. Es kann jedoch auch leicht zerstörbar sein und ist wartungsintensiv, was bedeutet, dass es regelmäßig überprüft und repariert werden muss. Darüber hinaus ist es umweltschädlich, da der Kunststoff nicht biologisch abbaubar ist. Eine der größten Herausforderungen besteht darin, die Akzeptanz dieses neuen Materialsystems in der Öffentlichkeit zu gewinnen, da es sich stark von traditionellen Baumaterialien unterscheidet.']"
      ]
     },
     "execution_count": 164,
     "metadata": {},
     "output_type": "execute_result"
    }
   ],
   "source": [
    "result"
   ]
  },
  {
   "cell_type": "code",
   "execution_count": 165,
   "metadata": {},
   "outputs": [
    {
     "name": "stdout",
     "output_type": "stream",
     "text": [
      "File already exists. Using new filename: ./output\\result_9.csv\n",
      "Data has been written to ./output\\result_9.csv\n"
     ]
    },
    {
     "data": {
      "text/plain": [
       "'./output\\\\result_9.csv'"
      ]
     },
     "execution_count": 165,
     "metadata": {},
     "output_type": "execute_result"
    }
   ],
   "source": [
    "get_data.save_results_to_csv('result.csv', result)"
   ]
  },
  {
   "cell_type": "code",
   "execution_count": 166,
   "metadata": {},
   "outputs": [],
   "source": [
    "result_df = pd.read_csv('./output/result.csv')"
   ]
  },
  {
   "cell_type": "code",
   "execution_count": 167,
   "metadata": {},
   "outputs": [
    {
     "name": "stdout",
     "output_type": "stream",
     "text": [
      "Missing Words:\n",
      "- 'enthält' from the phrase 'enthält Kunststoff'\n",
      "- 'kunststoff' from the phrase 'enthält Kunststoff'\n",
      "- 'leicht' from the phrase 'leicht zerstörbar'\n",
      "- 'zerstörbar' from the phrase 'leicht zerstörbar'\n",
      "- 'ähnlich' from the phrase 'Insekten ähnlich'\n",
      "- 'lebensähnlich' from the phrase 'lebensähnlich'\n",
      "\n",
      "Partial Matches:\n",
      "- 'akzeptanz' (from the phrase 'Akzeptanz eines neuen Materialsystems') partially matches with 'an' in the text.\n",
      "- 'eines' (from the phrase 'Akzeptanz eines neuen Materialsystems') partially matches with 'eine' in the text.\n",
      "- 'materialsystems' (from the phrase 'Akzeptanz eines neuen Materialsystems') partially matches with 'material' in the text.\n",
      "- 'wartungsintensiv' (from the phrase 'wartungsintensiv') partially matches with 'in' in the text.\n",
      "- 'umweltschädlich' (from the phrase 'umweltschädlich') partially matches with 'um' in the text.\n",
      "- 'insekten' (from the phrase 'Insekten ähnlich') partially matches with 'in' in the text.\n",
      "- 'bioinspiriert' (from the phrase 'bioinspiriert') partially matches with 'in' in the text.\n",
      "\n"
     ]
    }
   ],
   "source": [
    "get_data=reload(get_data)\n",
    "text_check = get_data.check_for_missing_matching_words(result_df['text'], df_partitions, [3,6], 0.5)\n",
    "print(text_check)"
   ]
  }
 ],
 "metadata": {
  "kernelspec": {
   "display_name": "spaceenvironment",
   "language": "python",
   "name": "python3"
  },
  "language_info": {
   "codemirror_mode": {
    "name": "ipython",
    "version": 3
   },
   "file_extension": ".py",
   "mimetype": "text/x-python",
   "name": "python",
   "nbconvert_exporter": "python",
   "pygments_lexer": "ipython3",
   "version": "3.10.14"
  }
 },
 "nbformat": 4,
 "nbformat_minor": 2
}
